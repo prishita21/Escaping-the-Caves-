{
 "cells": [
  {
   "cell_type": "code",
   "execution_count": 1,
   "metadata": {},
   "outputs": [],
   "source": [
    "import numpy as np"
   ]
  },
  {
   "cell_type": "code",
   "execution_count": 2,
   "metadata": {},
   "outputs": [],
   "source": [
    "dct = {'f' : [0,0,0,0],\n",
    " 'g' : [0,0,0,1],\n",
    " 'h' : [0,0,1,0],\n",
    " 'i' : [0,0,1,1],\n",
    " 'j' : [0,1,0,0],\n",
    " 'k' : [0,1,0,1],\n",
    " 'l' : [0,1,1,0],\n",
    " 'm' : [0,1,1,1],\n",
    " 'n' : [1,0,0,0],\n",
    " 'o' : [1,0,0,1],\n",
    " 'p' : [1,0,1,0],\n",
    " 'q' : [1,0,1,1],\n",
    " 'r' : [1,1,0,0],\n",
    " 's' : [1,1,0,1],\n",
    " 't' : [1,1,1,0],\n",
    " 'u' : [1,1,1,1]}\n",
    "\n",
    "inv_dict = {'0000': 'f',\n",
    " '0001': 'g',\n",
    " '0010': 'h',\n",
    " '0011': 'i',\n",
    " '0100': 'j',\n",
    " '0101': 'k',\n",
    " '0110': 'l',\n",
    " '0111': 'm',\n",
    " '1000': 'n',\n",
    " '1001': 'o',\n",
    " '1010': 'p',\n",
    " '1011': 'q',\n",
    " '1100': 'r',\n",
    " '1101': 's',\n",
    " '1110': 't',\n",
    " '1111': 'u'}\n",
    "\n"
   ]
  },
  {
   "cell_type": "code",
   "execution_count": 92,
   "metadata": {},
   "outputs": [],
   "source": [
    "def byte_str(b):\n",
    "    binnum = '{:0>8}'.format(format(b,\"b\"))\n",
    "    return inv_dict[binnum[0:4]], inv_dict[binnum[4:8]]"
   ]
  },
  {
   "cell_type": "code",
   "execution_count": 90,
   "metadata": {},
   "outputs": [
    {
     "name": "stdout",
     "output_type": "stream",
     "text": [
      "('r', 'l')\n",
      "('r', 'u')\n",
      "('h', 'n')\n",
      "('g', 'p')\n",
      "('s', 'q')\n",
      "('r', 's')\n",
      "('s', 'j')\n",
      "('u', 'h')\n"
     ]
    }
   ],
   "source": [
    "x = [198, 207, 40, 26, 219, 205, 212, 242]\n",
    "for i in x:\n",
    "    print byte_str(i)"
   ]
  },
  {
   "cell_type": "code",
   "execution_count": 14,
   "metadata": {},
   "outputs": [
    {
     "data": {
      "text/plain": [
       "[151, 98, 106, 37, 1, 70, 60, 195]"
      ]
     },
     "execution_count": 14,
     "metadata": {},
     "output_type": "execute_result"
    }
   ],
   "source": [
    "lst = []\n",
    "#krpsqqonftrjkktkklfqiuipgqstqpsj\n",
    "st = \"omlhlphkfgjlirri\"\n",
    "for i in range(len(st)/2):\n",
    "    i1 = dct[st[2*i]]\n",
    "    i2 = dct[st[2*i+1]]\n",
    "    bi = i1+i2\n",
    "    strin = \"\"\n",
    "    for j in bi:\n",
    "        strin+=str(j)\n",
    "    lst.append(int(strin,2))\n",
    "lst"
   ]
  },
  {
   "cell_type": "code",
   "execution_count": null,
   "metadata": {},
   "outputs": [],
   "source": []
  },
  {
   "cell_type": "code",
   "execution_count": null,
   "metadata": {},
   "outputs": [],
   "source": []
  },
  {
   "cell_type": "code",
   "execution_count": 84,
   "metadata": {},
   "outputs": [],
   "source": [
    "key = \"01110000001110000011011001011110001110101101110101010101\""
   ]
  }
 ],
 "metadata": {
  "kernelspec": {
   "display_name": "Python 2",
   "language": "python",
   "name": "python2"
  },
  "language_info": {
   "codemirror_mode": {
    "name": "ipython",
    "version": 2
   },
   "file_extension": ".py",
   "mimetype": "text/x-python",
   "name": "python",
   "nbconvert_exporter": "python",
   "pygments_lexer": "ipython2",
   "version": "2.7.12"
  }
 },
 "nbformat": 4,
 "nbformat_minor": 2
}
