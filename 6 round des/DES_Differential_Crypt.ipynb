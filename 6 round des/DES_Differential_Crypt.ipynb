{
 "cells": [
  {
   "cell_type": "code",
   "execution_count": 5,
   "metadata": {},
   "outputs": [],
   "source": [
    "import numpy as np"
   ]
  },
  {
   "cell_type": "code",
   "execution_count": 6,
   "metadata": {},
   "outputs": [],
   "source": [
    "temp_arr = open(\"output.txt\")\n",
    "dat = temp_arr.read().split(\"\\n\")\n",
    "dct = {'f' : [0,0,0,0],\n",
    " 'g' : [0,0,0,1],\n",
    " 'h' : [0,0,1,0],\n",
    " 'i' : [0,0,1,1],\n",
    " 'j' : [0,1,0,0],\n",
    " 'k' : [0,1,0,1],\n",
    " 'l' : [0,1,1,0],\n",
    " 'm' : [0,1,1,1],\n",
    " 'n' : [1,0,0,0],\n",
    " 'o' : [1,0,0,1],\n",
    " 'p' : [1,0,1,0],\n",
    " 'q' : [1,0,1,1],\n",
    " 'r' : [1,1,0,0],\n",
    " 's' : [1,1,0,1],\n",
    " 't' : [1,1,1,0],\n",
    " 'u' : [1,1,1,1]}\n",
    "inp = []\n",
    "for i in range(len(dat)-1):\n",
    "    if (len(dat[i]) != 16):\n",
    "        print (i)\n",
    "    tmp=[]\n",
    "    for j in range(16):\n",
    "        tmp = tmp+dct[dat[i][j]]\n",
    "    inp.append(tmp)"
   ]
  },
  {
   "cell_type": "code",
   "execution_count": 7,
   "metadata": {},
   "outputs": [],
   "source": [
    "Inverse_Final_Permutation = [57,49,41,33,25,17,9,1,59,51,43,35,27,19,11,3,61,53,45,37,29,21,13,5,63,55,47,39,31,23,15,7,58,50,42,34,26,18,10,2,60,52,44,36,28,20,12,4,62,54,46,38,30,22,14,6,64,56,48,40,32,24,16,8]"
   ]
  },
  {
   "cell_type": "code",
   "execution_count": 8,
   "metadata": {},
   "outputs": [],
   "source": [
    "# Inverse Final Permutation\n",
    "conc_inputs = [[inp[j][Inverse_Final_Permutation[i]-1] for i in range(64)] for j in range(len(inp))] "
   ]
  },
  {
   "cell_type": "code",
   "execution_count": 9,
   "metadata": {},
   "outputs": [],
   "source": [
    "# XOR of Inverse Permuted Input\n",
    "X_inp = [list(np.bitwise_xor(conc_inputs[2*i+1],conc_inputs[2*i])) for i in range(len(inp)/2)]"
   ]
  },
  {
   "cell_type": "code",
   "execution_count": 10,
   "metadata": {},
   "outputs": [],
   "source": [
    "# Expanding R5 = L6 to get Alphas \n",
    "#Alpha = Expanded_Lout\n",
    "Exp_Box = [32, 1, 2, 3, 4, 5, 4, 5,6, 7, 8, 9, 8, 9, 10, 11, 12, 13, 12, 13, 14, 15, 16, 17, 16, 17, 18, 19, 20, 21, 20, 21, 22, 23, 24, 25, 24, 25, 26, 27, 28, 29, 28, 29, 30, 31, 32, 1]\n",
    "Expanded_LOut = [[conc_inputs[j][Exp_Box[i]-1] for i in range(48)] for j in range(len(inp))] "
   ]
  },
  {
   "cell_type": "code",
   "execution_count": 11,
   "metadata": {},
   "outputs": [],
   "source": [
    "# Calculating XOR of Alphas Or Input To S-Boxes\n",
    "X_S_In = [list(np.bitwise_xor(Expanded_LOut[2*i+1],Expanded_LOut[2*i])) for i in range(len(inp)/2)]"
   ]
  },
  {
   "cell_type": "code",
   "execution_count": 12,
   "metadata": {},
   "outputs": [],
   "source": [
    "# Fiestal XORED Output, XOR of L5 and R6\n",
    "L5 = [0,0,0,0,0,1]+[0 for z in range(26)]\n",
    "Fiest_Out = [list(np.bitwise_xor(X_inp[i][32:64],L5)) for i in range(len(X_inp))]"
   ]
  },
  {
   "cell_type": "code",
   "execution_count": 13,
   "metadata": {},
   "outputs": [],
   "source": [
    "# Calculating the output XOR after S-Box\n",
    "Inv_Permutation_Box = [9, 17, 23, 31, 13, 28, 2, 18, 24, 16, 30, 6, 26, 20, 10, 1, 8, 14, 25, 3, 4, 29, 11, 19, 32, 12, 22, 7, 5, 27, 15, 21]\n",
    "X_S_Out = [[Fiest_Out[j][Inv_Permutation_Box[i]-1] for i in range(32)] for j in range(len(Fiest_Out))]"
   ]
  },
  {
   "cell_type": "code",
   "execution_count": 14,
   "metadata": {},
   "outputs": [],
   "source": [
    "file = open(\"XS_inp.txt\",\"w\")\n",
    "for i in X_S_In:\n",
    "    st=\"\"\n",
    "    for j in i:\n",
    "        st=st+str(j)\n",
    "    file.write(st)\n",
    "    file.write(\"\\n\")\n",
    "file.close()"
   ]
  },
  {
   "cell_type": "code",
   "execution_count": 15,
   "metadata": {},
   "outputs": [],
   "source": [
    "file1 = open(\"XS_out.txt\",\"w\")\n",
    "for i in X_S_Out:\n",
    "    st=\"\"\n",
    "    for j in i:\n",
    "        st=st+str(j)\n",
    "    file1.write(st)\n",
    "    file1.write(\"\\n\")\n",
    "file1.close()"
   ]
  },
  {
   "cell_type": "code",
   "execution_count": 16,
   "metadata": {},
   "outputs": [],
   "source": [
    "file = open(\"XExp_out.txt\",\"w\")\n",
    "for i in range(len(Expanded_LOut)):\n",
    "    if i%2==1:\n",
    "        continue\n",
    "    st=\"\"\n",
    "    for j in Expanded_LOut[i]:\n",
    "        st=st+str(j)\n",
    "    file.write(st)\n",
    "    file.write(\"\\n\")\n",
    "file.close()"
   ]
  },
  {
   "cell_type": "code",
   "execution_count": 17,
   "metadata": {},
   "outputs": [
    {
     "name": "stdout",
     "output_type": "stream",
     "text": [
      "[0, 0, 0, 0, 0, 1, 0, 0, 0, 0, 0, 0, 0, 0, 0, 0, 0, 0, 0, 0, 0, 0, 0, 0, 0, 0, 0, 0, 0, 0, 0, 0]\n"
     ]
    }
   ],
   "source": [
    "print (L5)"
   ]
  },
  {
   "cell_type": "code",
   "execution_count": null,
   "metadata": {},
   "outputs": [],
   "source": []
  },
  {
   "cell_type": "code",
   "execution_count": null,
   "metadata": {},
   "outputs": [],
   "source": []
  },
  {
   "cell_type": "code",
   "execution_count": null,
   "metadata": {},
   "outputs": [],
   "source": []
  }
 ],
 "metadata": {
  "kernelspec": {
   "display_name": "Python 2",
   "language": "python",
   "name": "python2"
  },
  "language_info": {
   "codemirror_mode": {
    "name": "ipython",
    "version": 2
   },
   "file_extension": ".py",
   "mimetype": "text/x-python",
   "name": "python",
   "nbconvert_exporter": "python",
   "pygments_lexer": "ipython2",
   "version": "2.7.12"
  }
 },
 "nbformat": 4,
 "nbformat_minor": 2
}
